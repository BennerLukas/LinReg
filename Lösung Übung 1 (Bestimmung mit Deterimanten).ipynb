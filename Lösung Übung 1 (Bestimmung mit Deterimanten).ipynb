{
 "cells": [
  {
   "cell_type": "markdown",
   "metadata": {
    "slideshow": {
     "slide_type": "slide"
    }
   },
   "source": [
    "## Übung: Numerische Implementierung der analytischen linearen Regression\n",
    "\n",
    "Im Rahmen dieser Übung werden die Bibliotheken numpy, matplotlib und sklearn verwendet. Implementieren Sie die 1D lineare Regression indem Sie die expliziten Formeln von Papula verwenden. Gleichen Sie das Ergebnis mit scikit-learn ab."
   ]
  },
  {
   "cell_type": "code",
   "execution_count": 1,
   "metadata": {},
   "outputs": [
    {
     "output_type": "stream",
     "name": "stdout",
     "text": "[3.74540119 9.50714306 7.31993942 5.98658484 1.5601864  1.5599452\n 0.58083612 8.66176146 6.01115012 7.08072578 0.20584494 9.69909852\n 8.32442641 2.12339111 1.81824967 1.8340451  3.04242243 5.24756432\n 4.31945019 2.9122914  6.11852895 1.39493861 2.92144649 3.66361843\n 4.56069984 7.85175961 1.99673782 5.14234438 5.92414569 0.46450413\n 6.07544852 1.70524124 0.65051593 9.48885537 9.65632033 8.08397348\n 3.04613769 0.97672114 6.84233027 4.40152494 1.22038235 4.9517691\n 0.34388521 9.09320402 2.58779982 6.62522284 3.11711076 5.20068021\n 5.46710279 1.84854456]\n"
    }
   ],
   "source": [
    "import numpy as np\n",
    "import matplotlib.pyplot as plt\n",
    "n=50\n",
    "rng = np.random.RandomState(42)\n",
    "x = 10 * rng.rand(50)\n",
    "y = 2 * x - 1 + rng.randn(50)\n",
    "X = x\n",
    "\n",
    "# n = 3\n",
    "# X=np.array([0,1,3])\n",
    "# y=np.array([10,2,0])\n",
    "print(X)"
   ]
  },
  {
   "cell_type": "code",
   "execution_count": 2,
   "metadata": {},
   "outputs": [
    {
     "output_type": "stream",
     "name": "stdout",
     "text": "[ 7.22926896 18.18565441 13.52423055 10.67206599  0.64185082  1.4000462\n -0.29896653 17.38064514 11.36591852 11.3984114  -0.26422614 18.01311476\n 14.97193082  3.8584585   3.66749887  3.59937032  4.24562734  9.18591626\n  7.9701638   5.80012793 10.75788366  1.60421824  3.736558    5.13103024\n  8.93392551 16.05975926  2.92146552 10.28822167 11.2099274  -0.7161115\n 11.51229264  3.94851904  0.26520582 19.5423544  15.69289556 15.98984947\n  5.17932245  0.65443493 12.77642131  5.81548096  1.22109281  9.26065077\n  1.16566447 16.66813782  3.36710603 11.74868864  6.14962364  9.73011153\n  9.40444538  3.21035654]\n"
    }
   ],
   "source": [
    "print(y)"
   ]
  },
  {
   "cell_type": "code",
   "execution_count": 3,
   "metadata": {},
   "outputs": [],
   "source": [
    "# berechnung von D\n",
    "# berechnung von D1\n",
    "# berechnung von D2\n",
    "# berechnung von a mit D1/D2\n",
    "# berechnung von b mit D2/D\n"
   ]
  },
  {
   "cell_type": "code",
   "execution_count": 4,
   "metadata": {},
   "outputs": [
    {
     "output_type": "execute_result",
     "data": {
      "text/plain": "20446.108433022186"
     },
     "metadata": {},
     "execution_count": 4
    }
   ],
   "source": [
    "D = n * (X**2).sum() - X.sum()**2\n",
    "D"
   ]
  },
  {
   "cell_type": "code",
   "execution_count": 5,
   "metadata": {},
   "outputs": [
    {
     "output_type": "execute_result",
     "data": {
      "text/plain": "40435.38129476008"
     },
     "metadata": {},
     "execution_count": 5
    }
   ],
   "source": [
    "D1 = n * (X*y).sum() - X.sum() * y.sum()\n",
    "D1"
   ]
  },
  {
   "cell_type": "code",
   "execution_count": 6,
   "metadata": {},
   "outputs": [
    {
     "output_type": "execute_result",
     "data": {
      "text/plain": "array([ 2.70765125e+01,  1.72893618e+02,  9.89965483e+01,  6.38892285e+01,\n        1.00140692e+00,  2.18399535e+00, -1.73650558e-01,  1.50547002e+02,\n        6.83222425e+01,  8.07090254e+01, -5.43896157e-02,  1.74710975e+02,\n        1.24632736e+02,  8.19301647e+00,  6.66842861e+00,  6.60140749e+00,\n        1.29169918e+01,  4.82036864e+01,  3.44267255e+01,  1.68916627e+01,\n        6.58224226e+01,  2.23778595e+00,  1.09161542e+01,  1.87981370e+01,\n        4.07449526e+01,  1.26097369e+02,  5.83340070e+00,  5.29055789e+01,\n        6.64092431e+01, -3.32636747e-01,  6.99423413e+01,  6.73317749e+00,\n        1.72520611e-01,  1.85434575e+02,  1.51535626e+02,  1.29261519e+02,\n        1.57769293e+01,  6.39200431e-01,  8.74204942e+01,  2.55969845e+01,\n        1.49020011e+00,  4.58566044e+01,  4.00854771e-01,  1.51566778e+02,\n        8.71339636e+00,  7.78376804e+01,  1.91690580e+01,  5.06031985e+01,\n        5.14150696e+01,  5.93448711e+00])"
     },
     "metadata": {},
     "execution_count": 6
    }
   ],
   "source": [
    "(X*y)"
   ]
  },
  {
   "cell_type": "code",
   "execution_count": 7,
   "metadata": {},
   "outputs": [
    {
     "output_type": "execute_result",
     "data": {
      "text/plain": "-18469.18904292106"
     },
     "metadata": {},
     "execution_count": 7
    }
   ],
   "source": [
    "D2 = (X**2).sum() * y.sum() - X.sum() * (X*y).sum()\n",
    "D2"
   ]
  },
  {
   "cell_type": "code",
   "execution_count": 8,
   "metadata": {},
   "outputs": [
    {
     "output_type": "execute_result",
     "data": {
      "text/plain": "1.9776566003853104"
     },
     "metadata": {},
     "execution_count": 8
    }
   ],
   "source": [
    "a = D1/D\n",
    "a"
   ]
  },
  {
   "cell_type": "code",
   "execution_count": 9,
   "metadata": {},
   "outputs": [
    {
     "output_type": "execute_result",
     "data": {
      "text/plain": "-0.9033107255311121"
     },
     "metadata": {},
     "execution_count": 9
    }
   ],
   "source": [
    "b= D2/D\n",
    "b"
   ]
  },
  {
   "cell_type": "code",
   "execution_count": 10,
   "metadata": {},
   "outputs": [
    {
     "output_type": "execute_result",
     "data": {
      "text/plain": "[<matplotlib.lines.Line2D at 0x27c84364408>]"
     },
     "metadata": {},
     "execution_count": 10
    },
    {
     "output_type": "display_data",
     "data": {
      "text/plain": "<Figure size 432x288 with 1 Axes>",
      "image/svg+xml": "<?xml version=\"1.0\" encoding=\"utf-8\" standalone=\"no\"?>\r\n<!DOCTYPE svg PUBLIC \"-//W3C//DTD SVG 1.1//EN\"\r\n  \"http://www.w3.org/Graphics/SVG/1.1/DTD/svg11.dtd\">\r\n<!-- Created with matplotlib (https://matplotlib.org/) -->\r\n<svg height=\"248.518125pt\" version=\"1.1\" viewBox=\"0 0 379.257159 248.518125\" width=\"379.257159pt\" xmlns=\"http://www.w3.org/2000/svg\" xmlns:xlink=\"http://www.w3.org/1999/xlink\">\r\n <defs>\r\n  <style type=\"text/css\">\r\n*{stroke-linecap:butt;stroke-linejoin:round;}\r\n  </style>\r\n </defs>\r\n <g id=\"figure_1\">\r\n  <g id=\"patch_1\">\r\n   <path d=\"M 0 248.518125 \r\nL 379.257159 248.518125 \r\nL 379.257159 0 \r\nL 0 0 \r\nz\r\n\" style=\"fill:none;\"/>\r\n  </g>\r\n  <g id=\"axes_1\">\r\n   <g id=\"patch_2\">\r\n    <path d=\"M 36.465625 224.64 \r\nL 371.265625 224.64 \r\nL 371.265625 7.2 \r\nL 36.465625 7.2 \r\nz\r\n\" style=\"fill:#ffffff;\"/>\r\n   </g>\r\n   <g id=\"PathCollection_1\">\r\n    <defs>\r\n     <path d=\"M 0 3 \r\nC 0.795609 3 1.55874 2.683901 2.12132 2.12132 \r\nC 2.683901 1.55874 3 0.795609 3 0 \r\nC 3 -0.795609 2.683901 -1.55874 2.12132 -2.12132 \r\nC 1.55874 -2.683901 0.795609 -3 0 -3 \r\nC -0.795609 -3 -1.55874 -2.683901 -2.12132 -2.12132 \r\nC -2.683901 -1.55874 -3 -0.795609 -3 0 \r\nC -3 0.795609 -2.683901 1.55874 -2.12132 2.12132 \r\nC -1.55874 2.683901 -0.795609 3 0 3 \r\nz\r\n\" id=\"mbb69d6d3c7\" style=\"stroke:#1f77b4;\"/>\r\n    </defs>\r\n    <g clip-path=\"url(#p6fefb003fd)\">\r\n     <use style=\"fill:#1f77b4;stroke:#1f77b4;\" x=\"165.165681\" xlink:href=\"#mbb69d6d3c7\" y=\"137.229021\"/>\r\n     <use style=\"fill:#1f77b4;stroke:#1f77b4;\" x=\"349.89315\" xlink:href=\"#mbb69d6d3c7\" y=\"30.321687\"/>\r\n     <use style=\"fill:#1f77b4;stroke:#1f77b4;\" x=\"279.769115\" xlink:href=\"#mbb69d6d3c7\" y=\"75.805701\"/>\r\n     <use style=\"fill:#1f77b4;stroke:#1f77b4;\" x=\"237.020373\" xlink:href=\"#mbb69d6d3c7\" y=\"103.635802\"/>\r\n     <use style=\"fill:#1f77b4;stroke:#1f77b4;\" x=\"95.10541\" xlink:href=\"#mbb69d6d3c7\" y=\"201.505996\"/>\r\n     <use style=\"fill:#1f77b4;stroke:#1f77b4;\" x=\"95.097677\" xlink:href=\"#mbb69d6d3c7\" y=\"194.107877\"/>\r\n     <use style=\"fill:#1f77b4;stroke:#1f77b4;\" x=\"63.706416\" xlink:href=\"#mbb69d6d3c7\" y=\"210.686056\"/>\r\n     <use style=\"fill:#1f77b4;stroke:#1f77b4;\" x=\"322.789332\" xlink:href=\"#mbb69d6d3c7\" y=\"38.176594\"/>\r\n     <use style=\"fill:#1f77b4;stroke:#1f77b4;\" x=\"237.807961\" xlink:href=\"#mbb69d6d3c7\" y=\"96.865511\"/>\r\n     <use style=\"fill:#1f77b4;stroke:#1f77b4;\" x=\"272.099675\" xlink:href=\"#mbb69d6d3c7\" y=\"96.54846\"/>\r\n     <use style=\"fill:#1f77b4;stroke:#1f77b4;\" x=\"51.683807\" xlink:href=\"#mbb69d6d3c7\" y=\"210.347076\"/>\r\n     <use style=\"fill:#1f77b4;stroke:#1f77b4;\" x=\"356.047443\" xlink:href=\"#mbb69d6d3c7\" y=\"32.005248\"/>\r\n     <use style=\"fill:#1f77b4;stroke:#1f77b4;\" x=\"311.974018\" xlink:href=\"#mbb69d6d3c7\" y=\"61.679713\"/>\r\n     <use style=\"fill:#1f77b4;stroke:#1f77b4;\" x=\"113.162342\" xlink:href=\"#mbb69d6d3c7\" y=\"170.119828\"/>\r\n     <use style=\"fill:#1f77b4;stroke:#1f77b4;\" x=\"103.379188\" xlink:href=\"#mbb69d6d3c7\" y=\"171.983124\"/>\r\n     <use style=\"fill:#1f77b4;stroke:#1f77b4;\" x=\"103.885606\" xlink:href=\"#mbb69d6d3c7\" y=\"172.647891\"/>\r\n     <use style=\"fill:#1f77b4;stroke:#1f77b4;\" x=\"142.627447\" xlink:href=\"#mbb69d6d3c7\" y=\"166.342014\"/>\r\n     <use style=\"fill:#1f77b4;stroke:#1f77b4;\" x=\"213.326602\" xlink:href=\"#mbb69d6d3c7\" y=\"118.136963\"/>\r\n     <use style=\"fill:#1f77b4;stroke:#1f77b4;\" x=\"183.570292\" xlink:href=\"#mbb69d6d3c7\" y=\"129.999712\"/>\r\n     <use style=\"fill:#1f77b4;stroke:#1f77b4;\" x=\"138.45531\" xlink:href=\"#mbb69d6d3c7\" y=\"151.173917\"/>\r\n     <use style=\"fill:#1f77b4;stroke:#1f77b4;\" x=\"241.250639\" xlink:href=\"#mbb69d6d3c7\" y=\"102.798433\"/>\r\n     <use style=\"fill:#1f77b4;stroke:#1f77b4;\" x=\"89.807393\" xlink:href=\"#mbb69d6d3c7\" y=\"192.115661\"/>\r\n     <use style=\"fill:#1f77b4;stroke:#1f77b4;\" x=\"138.748832\" xlink:href=\"#mbb69d6d3c7\" y=\"171.309277\"/>\r\n     <use style=\"fill:#1f77b4;stroke:#1f77b4;\" x=\"162.543641\" xlink:href=\"#mbb69d6d3c7\" y=\"157.702663\"/>\r\n     <use style=\"fill:#1f77b4;stroke:#1f77b4;\" x=\"191.305009\" xlink:href=\"#mbb69d6d3c7\" y=\"120.595772\"/>\r\n     <use style=\"fill:#1f77b4;stroke:#1f77b4;\" x=\"296.819826\" xlink:href=\"#mbb69d6d3c7\" y=\"51.065187\"/>\r\n     <use style=\"fill:#1f77b4;stroke:#1f77b4;\" x=\"109.101705\" xlink:href=\"#mbb69d6d3c7\" y=\"179.262572\"/>\r\n     <use style=\"fill:#1f77b4;stroke:#1f77b4;\" x=\"209.953141\" xlink:href=\"#mbb69d6d3c7\" y=\"107.381177\"/>\r\n     <use style=\"fill:#1f77b4;stroke:#1f77b4;\" x=\"235.018508\" xlink:href=\"#mbb69d6d3c7\" y=\"98.3876\"/>\r\n     <use style=\"fill:#1f77b4;stroke:#1f77b4;\" x=\"59.976691\" xlink:href=\"#mbb69d6d3c7\" y=\"214.756364\"/>\r\n     <use style=\"fill:#1f77b4;stroke:#1f77b4;\" x=\"239.869435\" xlink:href=\"#mbb69d6d3c7\" y=\"95.43726\"/>\r\n     <use style=\"fill:#1f77b4;stroke:#1f77b4;\" x=\"99.75602\" xlink:href=\"#mbb69d6d3c7\" y=\"169.241059\"/>\r\n     <use style=\"fill:#1f77b4;stroke:#1f77b4;\" x=\"65.940424\" xlink:href=\"#mbb69d6d3c7\" y=\"205.181124\"/>\r\n     <use style=\"fill:#1f77b4;stroke:#1f77b4;\" x=\"349.306828\" xlink:href=\"#mbb69d6d3c7\" y=\"17.083636\"/>\r\n     <use style=\"fill:#1f77b4;stroke:#1f77b4;\" x=\"354.67593\" xlink:href=\"#mbb69d6d3c7\" y=\"54.644873\"/>\r\n     <use style=\"fill:#1f77b4;stroke:#1f77b4;\" x=\"304.264846\" xlink:href=\"#mbb69d6d3c7\" y=\"51.747334\"/>\r\n     <use style=\"fill:#1f77b4;stroke:#1f77b4;\" x=\"142.746562\" xlink:href=\"#mbb69d6d3c7\" y=\"157.23145\"/>\r\n     <use style=\"fill:#1f77b4;stroke:#1f77b4;\" x=\"76.398904\" xlink:href=\"#mbb69d6d3c7\" y=\"201.383206\"/>\r\n     <use style=\"fill:#1f77b4;stroke:#1f77b4;\" x=\"264.456466\" xlink:href=\"#mbb69d6d3c7\" y=\"83.102478\"/>\r\n     <use style=\"fill:#1f77b4;stroke:#1f77b4;\" x=\"186.201695\" xlink:href=\"#mbb69d6d3c7\" y=\"151.02411\"/>\r\n     <use style=\"fill:#1f77b4;stroke:#1f77b4;\" x=\"84.210937\" xlink:href=\"#mbb69d6d3c7\" y=\"195.854021\"/>\r\n     <use style=\"fill:#1f77b4;stroke:#1f77b4;\" x=\"203.843098\" xlink:href=\"#mbb69d6d3c7\" y=\"117.407738\"/>\r\n     <use style=\"fill:#1f77b4;stroke:#1f77b4;\" x=\"56.109522\" xlink:href=\"#mbb69d6d3c7\" y=\"196.394865\"/>\r\n     <use style=\"fill:#1f77b4;stroke:#1f77b4;\" x=\"336.621832\" xlink:href=\"#mbb69d6d3c7\" y=\"45.12891\"/>\r\n     <use style=\"fill:#1f77b4;stroke:#1f77b4;\" x=\"128.051771\" xlink:href=\"#mbb69d6d3c7\" y=\"174.914218\"/>\r\n     <use style=\"fill:#1f77b4;stroke:#1f77b4;\" x=\"257.495775\" xlink:href=\"#mbb69d6d3c7\" y=\"93.130617\"/>\r\n     <use style=\"fill:#1f77b4;stroke:#1f77b4;\" x=\"145.022033\" xlink:href=\"#mbb69d6d3c7\" y=\"147.7637\"/>\r\n     <use style=\"fill:#1f77b4;stroke:#1f77b4;\" x=\"211.823448\" xlink:href=\"#mbb69d6d3c7\" y=\"112.826958\"/>\r\n     <use style=\"fill:#1f77b4;stroke:#1f77b4;\" x=\"220.365235\" xlink:href=\"#mbb69d6d3c7\" y=\"116.004657\"/>\r\n     <use style=\"fill:#1f77b4;stroke:#1f77b4;\" x=\"104.350474\" xlink:href=\"#mbb69d6d3c7\" y=\"176.443707\"/>\r\n    </g>\r\n   </g>\r\n   <g id=\"matplotlib.axis_1\">\r\n    <g id=\"xtick_1\">\r\n     <g id=\"line2d_1\">\r\n      <defs>\r\n       <path d=\"M 0 0 \r\nL 0 3.5 \r\n\" id=\"mc21b184b28\" style=\"stroke:#000000;stroke-width:0.8;\"/>\r\n      </defs>\r\n      <g>\r\n       <use style=\"stroke:#000000;stroke-width:0.8;\" x=\"45.084203\" xlink:href=\"#mc21b184b28\" y=\"224.64\"/>\r\n      </g>\r\n     </g>\r\n     <g id=\"text_1\">\r\n      <!-- 0 -->\r\n      <defs>\r\n       <path d=\"M 31.78125 66.40625 \r\nQ 24.171875 66.40625 20.328125 58.90625 \r\nQ 16.5 51.421875 16.5 36.375 \r\nQ 16.5 21.390625 20.328125 13.890625 \r\nQ 24.171875 6.390625 31.78125 6.390625 \r\nQ 39.453125 6.390625 43.28125 13.890625 \r\nQ 47.125 21.390625 47.125 36.375 \r\nQ 47.125 51.421875 43.28125 58.90625 \r\nQ 39.453125 66.40625 31.78125 66.40625 \r\nz\r\nM 31.78125 74.21875 \r\nQ 44.046875 74.21875 50.515625 64.515625 \r\nQ 56.984375 54.828125 56.984375 36.375 \r\nQ 56.984375 17.96875 50.515625 8.265625 \r\nQ 44.046875 -1.421875 31.78125 -1.421875 \r\nQ 19.53125 -1.421875 13.0625 8.265625 \r\nQ 6.59375 17.96875 6.59375 36.375 \r\nQ 6.59375 54.828125 13.0625 64.515625 \r\nQ 19.53125 74.21875 31.78125 74.21875 \r\nz\r\n\" id=\"DejaVuSans-48\"/>\r\n      </defs>\r\n      <g transform=\"translate(41.902953 239.238437)scale(0.1 -0.1)\">\r\n       <use xlink:href=\"#DejaVuSans-48\"/>\r\n      </g>\r\n     </g>\r\n    </g>\r\n    <g id=\"xtick_2\">\r\n     <g id=\"line2d_2\">\r\n      <g>\r\n       <use style=\"stroke:#000000;stroke-width:0.8;\" x=\"109.206294\" xlink:href=\"#mc21b184b28\" y=\"224.64\"/>\r\n      </g>\r\n     </g>\r\n     <g id=\"text_2\">\r\n      <!-- 2 -->\r\n      <defs>\r\n       <path d=\"M 19.1875 8.296875 \r\nL 53.609375 8.296875 \r\nL 53.609375 0 \r\nL 7.328125 0 \r\nL 7.328125 8.296875 \r\nQ 12.9375 14.109375 22.625 23.890625 \r\nQ 32.328125 33.6875 34.8125 36.53125 \r\nQ 39.546875 41.84375 41.421875 45.53125 \r\nQ 43.3125 49.21875 43.3125 52.78125 \r\nQ 43.3125 58.59375 39.234375 62.25 \r\nQ 35.15625 65.921875 28.609375 65.921875 \r\nQ 23.96875 65.921875 18.8125 64.3125 \r\nQ 13.671875 62.703125 7.8125 59.421875 \r\nL 7.8125 69.390625 \r\nQ 13.765625 71.78125 18.9375 73 \r\nQ 24.125 74.21875 28.421875 74.21875 \r\nQ 39.75 74.21875 46.484375 68.546875 \r\nQ 53.21875 62.890625 53.21875 53.421875 \r\nQ 53.21875 48.921875 51.53125 44.890625 \r\nQ 49.859375 40.875 45.40625 35.40625 \r\nQ 44.1875 33.984375 37.640625 27.21875 \r\nQ 31.109375 20.453125 19.1875 8.296875 \r\nz\r\n\" id=\"DejaVuSans-50\"/>\r\n      </defs>\r\n      <g transform=\"translate(106.025044 239.238437)scale(0.1 -0.1)\">\r\n       <use xlink:href=\"#DejaVuSans-50\"/>\r\n      </g>\r\n     </g>\r\n    </g>\r\n    <g id=\"xtick_3\">\r\n     <g id=\"line2d_3\">\r\n      <g>\r\n       <use style=\"stroke:#000000;stroke-width:0.8;\" x=\"173.328385\" xlink:href=\"#mc21b184b28\" y=\"224.64\"/>\r\n      </g>\r\n     </g>\r\n     <g id=\"text_3\">\r\n      <!-- 4 -->\r\n      <defs>\r\n       <path d=\"M 37.796875 64.3125 \r\nL 12.890625 25.390625 \r\nL 37.796875 25.390625 \r\nz\r\nM 35.203125 72.90625 \r\nL 47.609375 72.90625 \r\nL 47.609375 25.390625 \r\nL 58.015625 25.390625 \r\nL 58.015625 17.1875 \r\nL 47.609375 17.1875 \r\nL 47.609375 0 \r\nL 37.796875 0 \r\nL 37.796875 17.1875 \r\nL 4.890625 17.1875 \r\nL 4.890625 26.703125 \r\nz\r\n\" id=\"DejaVuSans-52\"/>\r\n      </defs>\r\n      <g transform=\"translate(170.147135 239.238437)scale(0.1 -0.1)\">\r\n       <use xlink:href=\"#DejaVuSans-52\"/>\r\n      </g>\r\n     </g>\r\n    </g>\r\n    <g id=\"xtick_4\">\r\n     <g id=\"line2d_4\">\r\n      <g>\r\n       <use style=\"stroke:#000000;stroke-width:0.8;\" x=\"237.450477\" xlink:href=\"#mc21b184b28\" y=\"224.64\"/>\r\n      </g>\r\n     </g>\r\n     <g id=\"text_4\">\r\n      <!-- 6 -->\r\n      <defs>\r\n       <path d=\"M 33.015625 40.375 \r\nQ 26.375 40.375 22.484375 35.828125 \r\nQ 18.609375 31.296875 18.609375 23.390625 \r\nQ 18.609375 15.53125 22.484375 10.953125 \r\nQ 26.375 6.390625 33.015625 6.390625 \r\nQ 39.65625 6.390625 43.53125 10.953125 \r\nQ 47.40625 15.53125 47.40625 23.390625 \r\nQ 47.40625 31.296875 43.53125 35.828125 \r\nQ 39.65625 40.375 33.015625 40.375 \r\nz\r\nM 52.59375 71.296875 \r\nL 52.59375 62.3125 \r\nQ 48.875 64.0625 45.09375 64.984375 \r\nQ 41.3125 65.921875 37.59375 65.921875 \r\nQ 27.828125 65.921875 22.671875 59.328125 \r\nQ 17.53125 52.734375 16.796875 39.40625 \r\nQ 19.671875 43.65625 24.015625 45.921875 \r\nQ 28.375 48.1875 33.59375 48.1875 \r\nQ 44.578125 48.1875 50.953125 41.515625 \r\nQ 57.328125 34.859375 57.328125 23.390625 \r\nQ 57.328125 12.15625 50.6875 5.359375 \r\nQ 44.046875 -1.421875 33.015625 -1.421875 \r\nQ 20.359375 -1.421875 13.671875 8.265625 \r\nQ 6.984375 17.96875 6.984375 36.375 \r\nQ 6.984375 53.65625 15.1875 63.9375 \r\nQ 23.390625 74.21875 37.203125 74.21875 \r\nQ 40.921875 74.21875 44.703125 73.484375 \r\nQ 48.484375 72.75 52.59375 71.296875 \r\nz\r\n\" id=\"DejaVuSans-54\"/>\r\n      </defs>\r\n      <g transform=\"translate(234.269227 239.238437)scale(0.1 -0.1)\">\r\n       <use xlink:href=\"#DejaVuSans-54\"/>\r\n      </g>\r\n     </g>\r\n    </g>\r\n    <g id=\"xtick_5\">\r\n     <g id=\"line2d_5\">\r\n      <g>\r\n       <use style=\"stroke:#000000;stroke-width:0.8;\" x=\"301.572568\" xlink:href=\"#mc21b184b28\" y=\"224.64\"/>\r\n      </g>\r\n     </g>\r\n     <g id=\"text_5\">\r\n      <!-- 8 -->\r\n      <defs>\r\n       <path d=\"M 31.78125 34.625 \r\nQ 24.75 34.625 20.71875 30.859375 \r\nQ 16.703125 27.09375 16.703125 20.515625 \r\nQ 16.703125 13.921875 20.71875 10.15625 \r\nQ 24.75 6.390625 31.78125 6.390625 \r\nQ 38.8125 6.390625 42.859375 10.171875 \r\nQ 46.921875 13.96875 46.921875 20.515625 \r\nQ 46.921875 27.09375 42.890625 30.859375 \r\nQ 38.875 34.625 31.78125 34.625 \r\nz\r\nM 21.921875 38.8125 \r\nQ 15.578125 40.375 12.03125 44.71875 \r\nQ 8.5 49.078125 8.5 55.328125 \r\nQ 8.5 64.0625 14.71875 69.140625 \r\nQ 20.953125 74.21875 31.78125 74.21875 \r\nQ 42.671875 74.21875 48.875 69.140625 \r\nQ 55.078125 64.0625 55.078125 55.328125 \r\nQ 55.078125 49.078125 51.53125 44.71875 \r\nQ 48 40.375 41.703125 38.8125 \r\nQ 48.828125 37.15625 52.796875 32.3125 \r\nQ 56.78125 27.484375 56.78125 20.515625 \r\nQ 56.78125 9.90625 50.3125 4.234375 \r\nQ 43.84375 -1.421875 31.78125 -1.421875 \r\nQ 19.734375 -1.421875 13.25 4.234375 \r\nQ 6.78125 9.90625 6.78125 20.515625 \r\nQ 6.78125 27.484375 10.78125 32.3125 \r\nQ 14.796875 37.15625 21.921875 38.8125 \r\nz\r\nM 18.3125 54.390625 \r\nQ 18.3125 48.734375 21.84375 45.5625 \r\nQ 25.390625 42.390625 31.78125 42.390625 \r\nQ 38.140625 42.390625 41.71875 45.5625 \r\nQ 45.3125 48.734375 45.3125 54.390625 \r\nQ 45.3125 60.0625 41.71875 63.234375 \r\nQ 38.140625 66.40625 31.78125 66.40625 \r\nQ 25.390625 66.40625 21.84375 63.234375 \r\nQ 18.3125 60.0625 18.3125 54.390625 \r\nz\r\n\" id=\"DejaVuSans-56\"/>\r\n      </defs>\r\n      <g transform=\"translate(298.391318 239.238437)scale(0.1 -0.1)\">\r\n       <use xlink:href=\"#DejaVuSans-56\"/>\r\n      </g>\r\n     </g>\r\n    </g>\r\n    <g id=\"xtick_6\">\r\n     <g id=\"line2d_6\">\r\n      <g>\r\n       <use style=\"stroke:#000000;stroke-width:0.8;\" x=\"365.694659\" xlink:href=\"#mc21b184b28\" y=\"224.64\"/>\r\n      </g>\r\n     </g>\r\n     <g id=\"text_6\">\r\n      <!-- 10 -->\r\n      <defs>\r\n       <path d=\"M 12.40625 8.296875 \r\nL 28.515625 8.296875 \r\nL 28.515625 63.921875 \r\nL 10.984375 60.40625 \r\nL 10.984375 69.390625 \r\nL 28.421875 72.90625 \r\nL 38.28125 72.90625 \r\nL 38.28125 8.296875 \r\nL 54.390625 8.296875 \r\nL 54.390625 0 \r\nL 12.40625 0 \r\nz\r\n\" id=\"DejaVuSans-49\"/>\r\n      </defs>\r\n      <g transform=\"translate(359.332159 239.238437)scale(0.1 -0.1)\">\r\n       <use xlink:href=\"#DejaVuSans-49\"/>\r\n       <use x=\"63.623047\" xlink:href=\"#DejaVuSans-48\"/>\r\n      </g>\r\n     </g>\r\n    </g>\r\n   </g>\r\n   <g id=\"matplotlib.axis_2\">\r\n    <g id=\"ytick_1\">\r\n     <g id=\"line2d_7\">\r\n      <defs>\r\n       <path d=\"M 0 0 \r\nL -3.5 0 \r\n\" id=\"md46323891e\" style=\"stroke:#000000;stroke-width:0.8;\"/>\r\n      </defs>\r\n      <g>\r\n       <use style=\"stroke:#000000;stroke-width:0.8;\" x=\"36.465625\" xlink:href=\"#md46323891e\" y=\"207.768879\"/>\r\n      </g>\r\n     </g>\r\n     <g id=\"text_7\">\r\n      <!-- 0.0 -->\r\n      <defs>\r\n       <path d=\"M 10.6875 12.40625 \r\nL 21 12.40625 \r\nL 21 0 \r\nL 10.6875 0 \r\nz\r\n\" id=\"DejaVuSans-46\"/>\r\n      </defs>\r\n      <g transform=\"translate(13.5625 211.568098)scale(0.1 -0.1)\">\r\n       <use xlink:href=\"#DejaVuSans-48\"/>\r\n       <use x=\"63.623047\" xlink:href=\"#DejaVuSans-46\"/>\r\n       <use x=\"95.410156\" xlink:href=\"#DejaVuSans-48\"/>\r\n      </g>\r\n     </g>\r\n    </g>\r\n    <g id=\"ytick_2\">\r\n     <g id=\"line2d_8\">\r\n      <g>\r\n       <use style=\"stroke:#000000;stroke-width:0.8;\" x=\"36.465625\" xlink:href=\"#md46323891e\" y=\"183.375037\"/>\r\n      </g>\r\n     </g>\r\n     <g id=\"text_8\">\r\n      <!-- 2.5 -->\r\n      <defs>\r\n       <path d=\"M 10.796875 72.90625 \r\nL 49.515625 72.90625 \r\nL 49.515625 64.59375 \r\nL 19.828125 64.59375 \r\nL 19.828125 46.734375 \r\nQ 21.96875 47.46875 24.109375 47.828125 \r\nQ 26.265625 48.1875 28.421875 48.1875 \r\nQ 40.625 48.1875 47.75 41.5 \r\nQ 54.890625 34.8125 54.890625 23.390625 \r\nQ 54.890625 11.625 47.5625 5.09375 \r\nQ 40.234375 -1.421875 26.90625 -1.421875 \r\nQ 22.3125 -1.421875 17.546875 -0.640625 \r\nQ 12.796875 0.140625 7.71875 1.703125 \r\nL 7.71875 11.625 \r\nQ 12.109375 9.234375 16.796875 8.0625 \r\nQ 21.484375 6.890625 26.703125 6.890625 \r\nQ 35.15625 6.890625 40.078125 11.328125 \r\nQ 45.015625 15.765625 45.015625 23.390625 \r\nQ 45.015625 31 40.078125 35.4375 \r\nQ 35.15625 39.890625 26.703125 39.890625 \r\nQ 22.75 39.890625 18.8125 39.015625 \r\nQ 14.890625 38.140625 10.796875 36.28125 \r\nz\r\n\" id=\"DejaVuSans-53\"/>\r\n      </defs>\r\n      <g transform=\"translate(13.5625 187.174256)scale(0.1 -0.1)\">\r\n       <use xlink:href=\"#DejaVuSans-50\"/>\r\n       <use x=\"63.623047\" xlink:href=\"#DejaVuSans-46\"/>\r\n       <use x=\"95.410156\" xlink:href=\"#DejaVuSans-53\"/>\r\n      </g>\r\n     </g>\r\n    </g>\r\n    <g id=\"ytick_3\">\r\n     <g id=\"line2d_9\">\r\n      <g>\r\n       <use style=\"stroke:#000000;stroke-width:0.8;\" x=\"36.465625\" xlink:href=\"#md46323891e\" y=\"158.981195\"/>\r\n      </g>\r\n     </g>\r\n     <g id=\"text_9\">\r\n      <!-- 5.0 -->\r\n      <g transform=\"translate(13.5625 162.780414)scale(0.1 -0.1)\">\r\n       <use xlink:href=\"#DejaVuSans-53\"/>\r\n       <use x=\"63.623047\" xlink:href=\"#DejaVuSans-46\"/>\r\n       <use x=\"95.410156\" xlink:href=\"#DejaVuSans-48\"/>\r\n      </g>\r\n     </g>\r\n    </g>\r\n    <g id=\"ytick_4\">\r\n     <g id=\"line2d_10\">\r\n      <g>\r\n       <use style=\"stroke:#000000;stroke-width:0.8;\" x=\"36.465625\" xlink:href=\"#md46323891e\" y=\"134.587353\"/>\r\n      </g>\r\n     </g>\r\n     <g id=\"text_10\">\r\n      <!-- 7.5 -->\r\n      <defs>\r\n       <path d=\"M 8.203125 72.90625 \r\nL 55.078125 72.90625 \r\nL 55.078125 68.703125 \r\nL 28.609375 0 \r\nL 18.3125 0 \r\nL 43.21875 64.59375 \r\nL 8.203125 64.59375 \r\nz\r\n\" id=\"DejaVuSans-55\"/>\r\n      </defs>\r\n      <g transform=\"translate(13.5625 138.386572)scale(0.1 -0.1)\">\r\n       <use xlink:href=\"#DejaVuSans-55\"/>\r\n       <use x=\"63.623047\" xlink:href=\"#DejaVuSans-46\"/>\r\n       <use x=\"95.410156\" xlink:href=\"#DejaVuSans-53\"/>\r\n      </g>\r\n     </g>\r\n    </g>\r\n    <g id=\"ytick_5\">\r\n     <g id=\"line2d_11\">\r\n      <g>\r\n       <use style=\"stroke:#000000;stroke-width:0.8;\" x=\"36.465625\" xlink:href=\"#md46323891e\" y=\"110.193511\"/>\r\n      </g>\r\n     </g>\r\n     <g id=\"text_11\">\r\n      <!-- 10.0 -->\r\n      <g transform=\"translate(7.2 113.99273)scale(0.1 -0.1)\">\r\n       <use xlink:href=\"#DejaVuSans-49\"/>\r\n       <use x=\"63.623047\" xlink:href=\"#DejaVuSans-48\"/>\r\n       <use x=\"127.246094\" xlink:href=\"#DejaVuSans-46\"/>\r\n       <use x=\"159.033203\" xlink:href=\"#DejaVuSans-48\"/>\r\n      </g>\r\n     </g>\r\n    </g>\r\n    <g id=\"ytick_6\">\r\n     <g id=\"line2d_12\">\r\n      <g>\r\n       <use style=\"stroke:#000000;stroke-width:0.8;\" x=\"36.465625\" xlink:href=\"#md46323891e\" y=\"85.799669\"/>\r\n      </g>\r\n     </g>\r\n     <g id=\"text_12\">\r\n      <!-- 12.5 -->\r\n      <g transform=\"translate(7.2 89.598888)scale(0.1 -0.1)\">\r\n       <use xlink:href=\"#DejaVuSans-49\"/>\r\n       <use x=\"63.623047\" xlink:href=\"#DejaVuSans-50\"/>\r\n       <use x=\"127.246094\" xlink:href=\"#DejaVuSans-46\"/>\r\n       <use x=\"159.033203\" xlink:href=\"#DejaVuSans-53\"/>\r\n      </g>\r\n     </g>\r\n    </g>\r\n    <g id=\"ytick_7\">\r\n     <g id=\"line2d_13\">\r\n      <g>\r\n       <use style=\"stroke:#000000;stroke-width:0.8;\" x=\"36.465625\" xlink:href=\"#md46323891e\" y=\"61.405827\"/>\r\n      </g>\r\n     </g>\r\n     <g id=\"text_13\">\r\n      <!-- 15.0 -->\r\n      <g transform=\"translate(7.2 65.205046)scale(0.1 -0.1)\">\r\n       <use xlink:href=\"#DejaVuSans-49\"/>\r\n       <use x=\"63.623047\" xlink:href=\"#DejaVuSans-53\"/>\r\n       <use x=\"127.246094\" xlink:href=\"#DejaVuSans-46\"/>\r\n       <use x=\"159.033203\" xlink:href=\"#DejaVuSans-48\"/>\r\n      </g>\r\n     </g>\r\n    </g>\r\n    <g id=\"ytick_8\">\r\n     <g id=\"line2d_14\">\r\n      <g>\r\n       <use style=\"stroke:#000000;stroke-width:0.8;\" x=\"36.465625\" xlink:href=\"#md46323891e\" y=\"37.011985\"/>\r\n      </g>\r\n     </g>\r\n     <g id=\"text_14\">\r\n      <!-- 17.5 -->\r\n      <g transform=\"translate(7.2 40.811203)scale(0.1 -0.1)\">\r\n       <use xlink:href=\"#DejaVuSans-49\"/>\r\n       <use x=\"63.623047\" xlink:href=\"#DejaVuSans-55\"/>\r\n       <use x=\"127.246094\" xlink:href=\"#DejaVuSans-46\"/>\r\n       <use x=\"159.033203\" xlink:href=\"#DejaVuSans-53\"/>\r\n      </g>\r\n     </g>\r\n    </g>\r\n    <g id=\"ytick_9\">\r\n     <g id=\"line2d_15\">\r\n      <g>\r\n       <use style=\"stroke:#000000;stroke-width:0.8;\" x=\"36.465625\" xlink:href=\"#md46323891e\" y=\"12.618143\"/>\r\n      </g>\r\n     </g>\r\n     <g id=\"text_15\">\r\n      <!-- 20.0 -->\r\n      <g transform=\"translate(7.2 16.417361)scale(0.1 -0.1)\">\r\n       <use xlink:href=\"#DejaVuSans-50\"/>\r\n       <use x=\"63.623047\" xlink:href=\"#DejaVuSans-48\"/>\r\n       <use x=\"127.246094\" xlink:href=\"#DejaVuSans-46\"/>\r\n       <use x=\"159.033203\" xlink:href=\"#DejaVuSans-48\"/>\r\n      </g>\r\n     </g>\r\n    </g>\r\n   </g>\r\n   <g id=\"line2d_16\">\r\n    <path clip-path=\"url(#p6fefb003fd)\" d=\"M 165.165681 144.307746 \r\nL 349.89315 33.123084 \r\nL 279.769115 75.329678 \r\nL 237.020373 101.059497 \r\nL 95.10541 186.475961 \r\nL 95.097677 186.480615 \r\nL 63.706416 205.374539 \r\nL 322.789332 49.436461 \r\nL 237.807961 100.58546 \r\nL 272.099675 79.945797 \r\nL 51.683807 212.610765 \r\nL 356.047443 29.418909 \r\nL 311.974018 55.946035 \r\nL 113.162342 175.607767 \r\nL 103.379188 181.496099 \r\nL 103.885606 181.191294 \r\nL 142.627447 157.873168 \r\nL 213.326602 115.320419 \r\nL 183.570292 133.23029 \r\nL 138.45531 160.384313 \r\nL 241.250639 98.513364 \r\nL 89.807393 189.664757 \r\nL 138.748832 160.207647 \r\nL 162.543641 145.885913 \r\nL 191.305009 128.574882 \r\nL 296.819826 65.067113 \r\nL 109.101705 178.051803 \r\nL 209.953141 117.350854 \r\nL 235.018508 102.264389 \r\nL 59.976691 207.619404 \r\nL 239.869435 99.34469 \r\nL 99.75602 183.676829 \r\nL 65.940424 204.029924 \r\nL 349.306828 33.475983 \r\nL 354.67593 30.244402 \r\nL 304.264846 60.586069 \r\nL 142.746562 157.801474 \r\nL 76.398904 197.735123 \r\nL 264.456466 84.546129 \r\nL 186.201695 131.646489 \r\nL 84.210937 193.033179 \r\nL 203.843098 121.028396 \r\nL 56.109522 209.946994 \r\nL 336.621832 41.11089 \r\nL 128.051771 166.646046 \r\nL 257.495775 88.735663 \r\nL 145.022033 156.431903 \r\nL 211.823448 116.225144 \r\nL 220.365235 111.083972 \r\nL 104.350474 180.911497 \r\n\" style=\"fill:none;stroke:#000000;stroke-linecap:square;stroke-width:1.5;\"/>\r\n   </g>\r\n   <g id=\"patch_3\">\r\n    <path d=\"M 36.465625 224.64 \r\nL 36.465625 7.2 \r\n\" style=\"fill:none;stroke:#000000;stroke-linecap:square;stroke-linejoin:miter;stroke-width:0.8;\"/>\r\n   </g>\r\n   <g id=\"patch_4\">\r\n    <path d=\"M 371.265625 224.64 \r\nL 371.265625 7.2 \r\n\" style=\"fill:none;stroke:#000000;stroke-linecap:square;stroke-linejoin:miter;stroke-width:0.8;\"/>\r\n   </g>\r\n   <g id=\"patch_5\">\r\n    <path d=\"M 36.465625 224.64 \r\nL 371.265625 224.64 \r\n\" style=\"fill:none;stroke:#000000;stroke-linecap:square;stroke-linejoin:miter;stroke-width:0.8;\"/>\r\n   </g>\r\n   <g id=\"patch_6\">\r\n    <path d=\"M 36.465625 7.2 \r\nL 371.265625 7.2 \r\n\" style=\"fill:none;stroke:#000000;stroke-linecap:square;stroke-linejoin:miter;stroke-width:0.8;\"/>\r\n   </g>\r\n  </g>\r\n </g>\r\n <defs>\r\n  <clipPath id=\"p6fefb003fd\">\r\n   <rect height=\"217.44\" width=\"334.8\" x=\"36.465625\" y=\"7.2\"/>\r\n  </clipPath>\r\n </defs>\r\n</svg>\r\n",
      "image/png": "[encoded data removed]"
     },
     "metadata": {
      "needs_background": "light"
     }
    }
   ],
   "source": [
    "plt.scatter(X,y)\n",
    "plt.plot(X,a*X+b, color='black')"
   ]
  },
  {
   "cell_type": "code",
   "execution_count": null,
   "metadata": {},
   "outputs": [],
   "source": []
  },
  {
   "cell_type": "code",
   "execution_count": null,
   "metadata": {},
   "outputs": [],
   "source": []
  },
  {
   "cell_type": "code",
   "execution_count": null,
   "metadata": {},
   "outputs": [],
   "source": []
  }
 ],
 "metadata": {
  "celltoolbar": "Slideshow",
  "kernelspec": {
   "display_name": "Python 3",
   "language": "python",
   "name": "python3"
  },
  "language_info": {
   "codemirror_mode": {
    "name": "ipython",
    "version": 3
   },
   "file_extension": ".py",
   "mimetype": "text/x-python",
   "name": "python",
   "nbconvert_exporter": "python",
   "pygments_lexer": "ipython3",
   "version": "3.7.7-final"
  }
 },
 "nbformat": 4,
 "nbformat_minor": 2
}